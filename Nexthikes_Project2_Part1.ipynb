{
 "cells": [
  {
   "cell_type": "code",
   "execution_count": 1,
   "id": "97674837-734d-462c-bb21-c561aecd9abf",
   "metadata": {},
   "outputs": [],
   "source": [
    "import pandas as pd\n",
    "import numpy as np\n",
    "import seaborn as sns\n",
    "import matplotlib.pyplot as plt\n",
    "import warnings\n",
    "warnings.filterwarnings('ignore')\n",
    "pd.set_option('display.max_rows',None)\n",
    "pd.set_option('display.max_columns',None)"
   ]
  },
  {
   "cell_type": "code",
   "execution_count": 6,
   "id": "d9207ea4-fc80-493f-ae3d-7fe07e8a0b79",
   "metadata": {},
   "outputs": [],
   "source": [
    "df = pd.read_csv(r'/Users/ranjitsingh/Documents/Nexthikes-Projects/Project2/dataset_1 - dataset_1.csv')"
   ]
  },
  {
   "cell_type": "code",
   "execution_count": 8,
   "id": "87441c7c-cd0d-4142-bc57-b7be809d35fc",
   "metadata": {},
   "outputs": [
    {
     "data": {
      "text/html": [
       "<div>\n",
       "<style scoped>\n",
       "    .dataframe tbody tr th:only-of-type {\n",
       "        vertical-align: middle;\n",
       "    }\n",
       "\n",
       "    .dataframe tbody tr th {\n",
       "        vertical-align: top;\n",
       "    }\n",
       "\n",
       "    .dataframe thead th {\n",
       "        text-align: right;\n",
       "    }\n",
       "</style>\n",
       "<table border=\"1\" class=\"dataframe\">\n",
       "  <thead>\n",
       "    <tr style=\"text-align: right;\">\n",
       "      <th></th>\n",
       "      <th>instant</th>\n",
       "      <th>dteday</th>\n",
       "      <th>season</th>\n",
       "      <th>yr</th>\n",
       "      <th>mnth</th>\n",
       "      <th>hr</th>\n",
       "      <th>holiday</th>\n",
       "      <th>weekday</th>\n",
       "      <th>weathersit</th>\n",
       "      <th>temp</th>\n",
       "    </tr>\n",
       "  </thead>\n",
       "  <tbody>\n",
       "    <tr>\n",
       "      <th>0</th>\n",
       "      <td>1</td>\n",
       "      <td>01-01-2011</td>\n",
       "      <td>1</td>\n",
       "      <td>0</td>\n",
       "      <td>1</td>\n",
       "      <td>0</td>\n",
       "      <td>False</td>\n",
       "      <td>6</td>\n",
       "      <td>1</td>\n",
       "      <td>0.24</td>\n",
       "    </tr>\n",
       "    <tr>\n",
       "      <th>1</th>\n",
       "      <td>2</td>\n",
       "      <td>01-01-2011</td>\n",
       "      <td>1</td>\n",
       "      <td>0</td>\n",
       "      <td>1</td>\n",
       "      <td>1</td>\n",
       "      <td>False</td>\n",
       "      <td>6</td>\n",
       "      <td>1</td>\n",
       "      <td>0.22</td>\n",
       "    </tr>\n",
       "    <tr>\n",
       "      <th>2</th>\n",
       "      <td>3</td>\n",
       "      <td>01-01-2011</td>\n",
       "      <td>1</td>\n",
       "      <td>0</td>\n",
       "      <td>1</td>\n",
       "      <td>2</td>\n",
       "      <td>False</td>\n",
       "      <td>6</td>\n",
       "      <td>1</td>\n",
       "      <td>0.22</td>\n",
       "    </tr>\n",
       "    <tr>\n",
       "      <th>3</th>\n",
       "      <td>4</td>\n",
       "      <td>01-01-2011</td>\n",
       "      <td>1</td>\n",
       "      <td>0</td>\n",
       "      <td>1</td>\n",
       "      <td>3</td>\n",
       "      <td>False</td>\n",
       "      <td>6</td>\n",
       "      <td>1</td>\n",
       "      <td>0.24</td>\n",
       "    </tr>\n",
       "    <tr>\n",
       "      <th>4</th>\n",
       "      <td>5</td>\n",
       "      <td>01-01-2011</td>\n",
       "      <td>1</td>\n",
       "      <td>0</td>\n",
       "      <td>1</td>\n",
       "      <td>4</td>\n",
       "      <td>False</td>\n",
       "      <td>6</td>\n",
       "      <td>1</td>\n",
       "      <td>0.24</td>\n",
       "    </tr>\n",
       "  </tbody>\n",
       "</table>\n",
       "</div>"
      ],
      "text/plain": [
       "   instant      dteday  season  yr  mnth  hr  holiday  weekday  weathersit  \\\n",
       "0        1  01-01-2011       1   0     1   0    False        6           1   \n",
       "1        2  01-01-2011       1   0     1   1    False        6           1   \n",
       "2        3  01-01-2011       1   0     1   2    False        6           1   \n",
       "3        4  01-01-2011       1   0     1   3    False        6           1   \n",
       "4        5  01-01-2011       1   0     1   4    False        6           1   \n",
       "\n",
       "   temp  \n",
       "0  0.24  \n",
       "1  0.22  \n",
       "2  0.22  \n",
       "3  0.24  \n",
       "4  0.24  "
      ]
     },
     "execution_count": 8,
     "metadata": {},
     "output_type": "execute_result"
    }
   ],
   "source": [
    "df.head()"
   ]
  },
  {
   "cell_type": "code",
   "execution_count": 10,
   "id": "871bb762-0aed-4d29-94f4-e36737f1bbf6",
   "metadata": {},
   "outputs": [
    {
     "data": {
      "text/plain": [
       "(610, 10)"
      ]
     },
     "execution_count": 10,
     "metadata": {},
     "output_type": "execute_result"
    }
   ],
   "source": [
    "df.shape"
   ]
  },
  {
   "cell_type": "code",
   "execution_count": 12,
   "id": "2dddea99-96f0-4190-a5e1-3f7b58367084",
   "metadata": {},
   "outputs": [
    {
     "data": {
      "text/plain": [
       "610"
      ]
     },
     "execution_count": 12,
     "metadata": {},
     "output_type": "execute_result"
    }
   ],
   "source": [
    "df['instant'].nunique()"
   ]
  },
  {
   "cell_type": "markdown",
   "id": "c8a3a82d-06eb-43dd-9d29-2c2cf49b9ba4",
   "metadata": {},
   "source": [
    "### The data does not contain any missing values; however, the date column is currently in object format and needs to be converted to a date type."
   ]
  },
  {
   "cell_type": "code",
   "execution_count": 15,
   "id": "f7f9f422-61d7-4c4f-8d82-b1c8f54f4d82",
   "metadata": {},
   "outputs": [
    {
     "name": "stdout",
     "output_type": "stream",
     "text": [
      "<class 'pandas.core.frame.DataFrame'>\n",
      "RangeIndex: 610 entries, 0 to 609\n",
      "Data columns (total 10 columns):\n",
      " #   Column      Non-Null Count  Dtype  \n",
      "---  ------      --------------  -----  \n",
      " 0   instant     610 non-null    int64  \n",
      " 1   dteday      610 non-null    object \n",
      " 2   season      610 non-null    int64  \n",
      " 3   yr          610 non-null    int64  \n",
      " 4   mnth        610 non-null    int64  \n",
      " 5   hr          610 non-null    int64  \n",
      " 6   holiday     610 non-null    bool   \n",
      " 7   weekday     610 non-null    int64  \n",
      " 8   weathersit  610 non-null    int64  \n",
      " 9   temp        610 non-null    float64\n",
      "dtypes: bool(1), float64(1), int64(7), object(1)\n",
      "memory usage: 43.6+ KB\n"
     ]
    }
   ],
   "source": [
    "df.info()"
   ]
  },
  {
   "cell_type": "markdown",
   "id": "ab9acf6c-73d1-4cb3-8b05-63d851746257",
   "metadata": {},
   "source": [
    "### Using unique function will help to identify the different format of dates available in the data set.\n",
    "### Analyzing Date Range also confirms data is only for January 2011."
   ]
  },
  {
   "cell_type": "code",
   "execution_count": 25,
   "id": "fc02295a-37fd-44ab-baca-0dddc79905b2",
   "metadata": {},
   "outputs": [
    {
     "data": {
      "text/plain": [
       "array(['01-01-2011', '02-01-2011', '03-01-2011', '04-01-2011',\n",
       "       '05-01-2011', '06-01-2011', '07-01-2011', '08-01-2011',\n",
       "       '09-01-2011', '10-01-2011', '11-01-2011', '12-01-2011',\n",
       "       '13-01-2011', '14-01-2011', '15-01-2011', '16-01-2011',\n",
       "       '17-01-2011', '18-01-2011', '19-01-2011', '20-01-2011',\n",
       "       '21-01-2011', '22-01-2011', '23-01-2011', '24-01-2011',\n",
       "       '25-01-2011', '26-01-2011', '27-01-2011', '28-01-2011'],\n",
       "      dtype=object)"
      ]
     },
     "execution_count": 25,
     "metadata": {},
     "output_type": "execute_result"
    }
   ],
   "source": [
    "df['dteday'].unique()"
   ]
  },
  {
   "cell_type": "markdown",
   "id": "615db4a2-3006-4ef8-85e9-85b7685b1f8d",
   "metadata": {},
   "source": [
    "### Standardizing the Date Column by Converting it to Datetime Format"
   ]
  },
  {
   "cell_type": "code",
   "execution_count": 28,
   "id": "11f7ede5-74c6-4ce5-9b7b-8c87920a4d0e",
   "metadata": {},
   "outputs": [],
   "source": [
    "df['dteday'] = pd.to_datetime(df['dteday'], format=\"%d-%m-%Y\")"
   ]
  },
  {
   "cell_type": "code",
   "execution_count": 30,
   "id": "7589eee0-f1f7-4fcc-b169-d0a9cad356f3",
   "metadata": {},
   "outputs": [
    {
     "name": "stdout",
     "output_type": "stream",
     "text": [
      "<class 'pandas.core.frame.DataFrame'>\n",
      "RangeIndex: 610 entries, 0 to 609\n",
      "Data columns (total 10 columns):\n",
      " #   Column      Non-Null Count  Dtype         \n",
      "---  ------      --------------  -----         \n",
      " 0   instant     610 non-null    int64         \n",
      " 1   dteday      610 non-null    datetime64[ns]\n",
      " 2   season      610 non-null    int64         \n",
      " 3   yr          610 non-null    int64         \n",
      " 4   mnth        610 non-null    int64         \n",
      " 5   hr          610 non-null    int64         \n",
      " 6   holiday     610 non-null    bool          \n",
      " 7   weekday     610 non-null    int64         \n",
      " 8   weathersit  610 non-null    int64         \n",
      " 9   temp        610 non-null    float64       \n",
      "dtypes: bool(1), datetime64[ns](1), float64(1), int64(7)\n",
      "memory usage: 43.6 KB\n"
     ]
    }
   ],
   "source": [
    "df.info()"
   ]
  },
  {
   "cell_type": "markdown",
   "id": "64a0f110-ab0b-41bc-b77c-a2a14f864d02",
   "metadata": {},
   "source": [
    "### Value_counts count the occurrences of unique values in each column of DataFrame"
   ]
  },
  {
   "cell_type": "code",
   "execution_count": 33,
   "id": "5f6c7603-4320-4f36-9802-dc27ec7c9813",
   "metadata": {},
   "outputs": [
    {
     "data": {
      "text/plain": [
       "season\n",
       "1    610\n",
       "Name: count, dtype: int64"
      ]
     },
     "execution_count": 33,
     "metadata": {},
     "output_type": "execute_result"
    }
   ],
   "source": [
    "df['season'].value_counts(dropna= False)"
   ]
  },
  {
   "cell_type": "code",
   "execution_count": 35,
   "id": "d01921f3-41f8-428a-9ce0-c026b4e3a9c3",
   "metadata": {},
   "outputs": [
    {
     "data": {
      "text/plain": [
       "holiday\n",
       "False    586\n",
       "True      24\n",
       "Name: count, dtype: int64"
      ]
     },
     "execution_count": 35,
     "metadata": {},
     "output_type": "execute_result"
    }
   ],
   "source": [
    "df['holiday'].value_counts(dropna= False)"
   ]
  },
  {
   "cell_type": "code",
   "execution_count": 37,
   "id": "2e11af0d-6329-43b2-9611-22936398f804",
   "metadata": {},
   "outputs": [
    {
     "data": {
      "text/plain": [
       "yr\n",
       "0    610\n",
       "Name: count, dtype: int64"
      ]
     },
     "execution_count": 37,
     "metadata": {},
     "output_type": "execute_result"
    }
   ],
   "source": [
    "df['yr'].value_counts(dropna= False)"
   ]
  },
  {
   "cell_type": "code",
   "execution_count": 39,
   "id": "8d183ccc-f3ab-4c26-8e54-dbb3da2e2767",
   "metadata": {},
   "outputs": [
    {
     "data": {
      "text/plain": [
       "mnth\n",
       "1    610\n",
       "Name: count, dtype: int64"
      ]
     },
     "execution_count": 39,
     "metadata": {},
     "output_type": "execute_result"
    }
   ],
   "source": [
    "df['mnth'].value_counts(dropna= False)"
   ]
  },
  {
   "cell_type": "code",
   "execution_count": 41,
   "id": "482c141e-fc07-4b95-95c2-6188013a89a3",
   "metadata": {},
   "outputs": [
    {
     "data": {
      "text/plain": [
       "hr\n",
       "12    27\n",
       "17    27\n",
       "16    27\n",
       "15    27\n",
       "14    27\n",
       "13    27\n",
       "1     26\n",
       "22    26\n",
       "21    26\n",
       "20    26\n",
       "19    26\n",
       "18    26\n",
       "0     26\n",
       "11    26\n",
       "10    26\n",
       "9     26\n",
       "8     26\n",
       "7     26\n",
       "6     26\n",
       "23    26\n",
       "5     24\n",
       "2     24\n",
       "4     20\n",
       "3     16\n",
       "Name: count, dtype: int64"
      ]
     },
     "execution_count": 41,
     "metadata": {},
     "output_type": "execute_result"
    }
   ],
   "source": [
    "df['hr'].value_counts(dropna= False)"
   ]
  },
  {
   "cell_type": "code",
   "execution_count": 43,
   "id": "b078067e-249d-4b55-8aa5-77c14cf4b6f5",
   "metadata": {},
   "outputs": [
    {
     "data": {
      "text/plain": [
       "holiday\n",
       "False    586\n",
       "True      24\n",
       "Name: count, dtype: int64"
      ]
     },
     "execution_count": 43,
     "metadata": {},
     "output_type": "execute_result"
    }
   ],
   "source": [
    "df['holiday'].value_counts(dropna= False)"
   ]
  },
  {
   "cell_type": "code",
   "execution_count": 45,
   "id": "50751fcd-d27f-4de1-9e7b-3c1ce42f4fb6",
   "metadata": {},
   "outputs": [
    {
     "data": {
      "text/plain": [
       "weekday\n",
       "6    95\n",
       "0    94\n",
       "1    93\n",
       "5    85\n",
       "3    84\n",
       "2    80\n",
       "4    79\n",
       "Name: count, dtype: int64"
      ]
     },
     "execution_count": 45,
     "metadata": {},
     "output_type": "execute_result"
    }
   ],
   "source": [
    "df['weekday'].value_counts(dropna= False)"
   ]
  },
  {
   "cell_type": "code",
   "execution_count": 47,
   "id": "b73dfc66-e031-4153-a6da-c83eda14bc2d",
   "metadata": {},
   "outputs": [
    {
     "data": {
      "text/plain": [
       "weathersit\n",
       "1    368\n",
       "2    194\n",
       "3     47\n",
       "4      1\n",
       "Name: count, dtype: int64"
      ]
     },
     "execution_count": 47,
     "metadata": {},
     "output_type": "execute_result"
    }
   ],
   "source": [
    "df['weathersit'].value_counts(dropna= False)"
   ]
  },
  {
   "cell_type": "code",
   "execution_count": 51,
   "id": "bd267cae-acdc-4572-931d-cd4b56f9e240",
   "metadata": {},
   "outputs": [
    {
     "data": {
      "text/plain": [
       "array([0.24, 0.22, 0.2 , 0.32, 0.38, 0.36, 0.42, 0.46, 0.44, 0.4 , 0.34,\n",
       "       0.3 , 0.26, 0.16, 0.14, 0.18, 0.12, 0.28, 0.1 , 0.08, 0.06, 0.04,\n",
       "       0.02])"
      ]
     },
     "execution_count": 51,
     "metadata": {},
     "output_type": "execute_result"
    }
   ],
   "source": [
    "df['temp'].unique()"
   ]
  },
  {
   "cell_type": "code",
   "execution_count": 55,
   "id": "28769a0f-db98-4187-9418-c6ca683b09a7",
   "metadata": {},
   "outputs": [],
   "source": [
    "df1 = pd.read_csv(r'/Users/ranjitsingh/Documents/Nexthikes-Projects/Project2/dataset_2.xlsx - dataset_2.csv')"
   ]
  },
  {
   "cell_type": "code",
   "execution_count": 57,
   "id": "df12b0fb-67ed-4016-980d-3740752f4f80",
   "metadata": {},
   "outputs": [
    {
     "data": {
      "text/html": [
       "<div>\n",
       "<style scoped>\n",
       "    .dataframe tbody tr th:only-of-type {\n",
       "        vertical-align: middle;\n",
       "    }\n",
       "\n",
       "    .dataframe tbody tr th {\n",
       "        vertical-align: top;\n",
       "    }\n",
       "\n",
       "    .dataframe thead th {\n",
       "        text-align: right;\n",
       "    }\n",
       "</style>\n",
       "<table border=\"1\" class=\"dataframe\">\n",
       "  <thead>\n",
       "    <tr style=\"text-align: right;\">\n",
       "      <th></th>\n",
       "      <th>Unnamed: 0</th>\n",
       "      <th>instant</th>\n",
       "      <th>atemp</th>\n",
       "      <th>hum</th>\n",
       "      <th>windspeed</th>\n",
       "      <th>casual</th>\n",
       "      <th>registered</th>\n",
       "      <th>cnt</th>\n",
       "    </tr>\n",
       "  </thead>\n",
       "  <tbody>\n",
       "    <tr>\n",
       "      <th>0</th>\n",
       "      <td>0</td>\n",
       "      <td>1</td>\n",
       "      <td>0.2879</td>\n",
       "      <td>0.81</td>\n",
       "      <td>0.0</td>\n",
       "      <td>3</td>\n",
       "      <td>13</td>\n",
       "      <td>16</td>\n",
       "    </tr>\n",
       "    <tr>\n",
       "      <th>1</th>\n",
       "      <td>1</td>\n",
       "      <td>2</td>\n",
       "      <td>0.2727</td>\n",
       "      <td>0.80</td>\n",
       "      <td>0.0</td>\n",
       "      <td>8</td>\n",
       "      <td>32</td>\n",
       "      <td>40</td>\n",
       "    </tr>\n",
       "    <tr>\n",
       "      <th>2</th>\n",
       "      <td>2</td>\n",
       "      <td>3</td>\n",
       "      <td>0.2727</td>\n",
       "      <td>0.80</td>\n",
       "      <td>0.0</td>\n",
       "      <td>5</td>\n",
       "      <td>27</td>\n",
       "      <td>32</td>\n",
       "    </tr>\n",
       "    <tr>\n",
       "      <th>3</th>\n",
       "      <td>3</td>\n",
       "      <td>4</td>\n",
       "      <td>0.2879</td>\n",
       "      <td>0.75</td>\n",
       "      <td>0.0</td>\n",
       "      <td>3</td>\n",
       "      <td>10</td>\n",
       "      <td>13</td>\n",
       "    </tr>\n",
       "    <tr>\n",
       "      <th>4</th>\n",
       "      <td>4</td>\n",
       "      <td>5</td>\n",
       "      <td>0.2879</td>\n",
       "      <td>0.75</td>\n",
       "      <td>0.0</td>\n",
       "      <td>0</td>\n",
       "      <td>1</td>\n",
       "      <td>1</td>\n",
       "    </tr>\n",
       "  </tbody>\n",
       "</table>\n",
       "</div>"
      ],
      "text/plain": [
       "   Unnamed: 0  instant   atemp   hum  windspeed  casual  registered  cnt\n",
       "0           0        1  0.2879  0.81        0.0       3          13   16\n",
       "1           1        2  0.2727  0.80        0.0       8          32   40\n",
       "2           2        3  0.2727  0.80        0.0       5          27   32\n",
       "3           3        4  0.2879  0.75        0.0       3          10   13\n",
       "4           4        5  0.2879  0.75        0.0       0           1    1"
      ]
     },
     "execution_count": 57,
     "metadata": {},
     "output_type": "execute_result"
    }
   ],
   "source": [
    "df1.head()"
   ]
  },
  {
   "cell_type": "code",
   "execution_count": 59,
   "id": "b957bb40-2a07-41b6-b862-092bad8b8f71",
   "metadata": {},
   "outputs": [
    {
     "data": {
      "text/plain": [
       "(610, 8)"
      ]
     },
     "execution_count": 59,
     "metadata": {},
     "output_type": "execute_result"
    }
   ],
   "source": [
    "df1.shape"
   ]
  },
  {
   "cell_type": "code",
   "execution_count": 61,
   "id": "4361bcbd-241b-4b71-ba62-691329e3b781",
   "metadata": {},
   "outputs": [
    {
     "name": "stdout",
     "output_type": "stream",
     "text": [
      "<class 'pandas.core.frame.DataFrame'>\n",
      "RangeIndex: 610 entries, 0 to 609\n",
      "Data columns (total 8 columns):\n",
      " #   Column      Non-Null Count  Dtype  \n",
      "---  ------      --------------  -----  \n",
      " 0   Unnamed: 0  610 non-null    int64  \n",
      " 1   instant     610 non-null    int64  \n",
      " 2   atemp       599 non-null    float64\n",
      " 3   hum         610 non-null    float64\n",
      " 4   windspeed   610 non-null    float64\n",
      " 5   casual      610 non-null    int64  \n",
      " 6   registered  610 non-null    int64  \n",
      " 7   cnt         610 non-null    int64  \n",
      "dtypes: float64(3), int64(5)\n",
      "memory usage: 38.3 KB\n"
     ]
    }
   ],
   "source": [
    "df1.info()"
   ]
  },
  {
   "cell_type": "markdown",
   "id": "5538b361-d112-4c56-96ac-f1bb91de9657",
   "metadata": {},
   "source": [
    "### Column [atemp] has missing values, we will deal with null values at final dataset"
   ]
  },
  {
   "cell_type": "code",
   "execution_count": 64,
   "id": "8e9c32b2-2aaa-49d2-bb2c-2d1cbffb52b6",
   "metadata": {},
   "outputs": [
    {
     "data": {
      "text/plain": [
       "Unnamed: 0     0\n",
       "instant        0\n",
       "atemp         11\n",
       "hum            0\n",
       "windspeed      0\n",
       "casual         0\n",
       "registered     0\n",
       "cnt            0\n",
       "dtype: int64"
      ]
     },
     "execution_count": 64,
     "metadata": {},
     "output_type": "execute_result"
    }
   ],
   "source": [
    "df1.isnull().sum()"
   ]
  },
  {
   "cell_type": "markdown",
   "id": "0f88d78c-feb4-4568-bba0-53591ac86dce",
   "metadata": {},
   "source": [
    "### Next step to merge the df and df1"
   ]
  },
  {
   "cell_type": "code",
   "execution_count": 67,
   "id": "84fcb14a-db8d-4520-9db9-89af20210c08",
   "metadata": {},
   "outputs": [
    {
     "data": {
      "text/plain": [
       "Index(['Unnamed: 0', 'instant', 'atemp', 'hum', 'windspeed', 'casual',\n",
       "       'registered', 'cnt'],\n",
       "      dtype='object')"
      ]
     },
     "execution_count": 67,
     "metadata": {},
     "output_type": "execute_result"
    }
   ],
   "source": [
    "df1.columns"
   ]
  },
  {
   "cell_type": "code",
   "execution_count": 69,
   "id": "02af6480-dfce-4873-8334-470347e987ac",
   "metadata": {},
   "outputs": [
    {
     "data": {
      "text/plain": [
       "Index(['instant', 'dteday', 'season', 'yr', 'mnth', 'hr', 'holiday', 'weekday',\n",
       "       'weathersit', 'temp'],\n",
       "      dtype='object')"
      ]
     },
     "execution_count": 69,
     "metadata": {},
     "output_type": "execute_result"
    }
   ],
   "source": [
    "df.columns"
   ]
  },
  {
   "cell_type": "markdown",
   "id": "1ce7be70-73ce-4e71-8fd9-cee936c3f7f3",
   "metadata": {},
   "source": [
    "### Before merging both dataset, i will drop column 'Unnamed: 0' which is a replicate of column 'instant'"
   ]
  },
  {
   "cell_type": "code",
   "execution_count": 72,
   "id": "3a4bffff-7244-4589-927c-8a1dc41d8ecd",
   "metadata": {},
   "outputs": [],
   "source": [
    "df1 = df1.drop('Unnamed: 0', axis=1)"
   ]
  },
  {
   "cell_type": "code",
   "execution_count": 74,
   "id": "a7e89111-dfa9-4ae1-8da7-a30fa9a3254a",
   "metadata": {},
   "outputs": [
    {
     "data": {
      "text/plain": [
       "(610, 7)"
      ]
     },
     "execution_count": 74,
     "metadata": {},
     "output_type": "execute_result"
    }
   ],
   "source": [
    "df1.shape"
   ]
  },
  {
   "cell_type": "code",
   "execution_count": 76,
   "id": "fd0035af-4c42-4c0d-8f58-1b0bb8e57ec6",
   "metadata": {},
   "outputs": [
    {
     "data": {
      "text/plain": [
       "(610, 16)"
      ]
     },
     "execution_count": 76,
     "metadata": {},
     "output_type": "execute_result"
    }
   ],
   "source": [
    "df2 = pd.merge(df,df1,on ='instant',how = 'outer')\n",
    "df2.shape"
   ]
  },
  {
   "cell_type": "code",
   "execution_count": 78,
   "id": "410080c0-6cb3-41c3-acb8-16d6ae5560f0",
   "metadata": {},
   "outputs": [
    {
     "name": "stdout",
     "output_type": "stream",
     "text": [
      "<class 'pandas.core.frame.DataFrame'>\n",
      "RangeIndex: 610 entries, 0 to 609\n",
      "Data columns (total 16 columns):\n",
      " #   Column      Non-Null Count  Dtype         \n",
      "---  ------      --------------  -----         \n",
      " 0   instant     610 non-null    int64         \n",
      " 1   dteday      610 non-null    datetime64[ns]\n",
      " 2   season      610 non-null    int64         \n",
      " 3   yr          610 non-null    int64         \n",
      " 4   mnth        610 non-null    int64         \n",
      " 5   hr          610 non-null    int64         \n",
      " 6   holiday     610 non-null    bool          \n",
      " 7   weekday     610 non-null    int64         \n",
      " 8   weathersit  610 non-null    int64         \n",
      " 9   temp        610 non-null    float64       \n",
      " 10  atemp       599 non-null    float64       \n",
      " 11  hum         610 non-null    float64       \n",
      " 12  windspeed   610 non-null    float64       \n",
      " 13  casual      610 non-null    int64         \n",
      " 14  registered  610 non-null    int64         \n",
      " 15  cnt         610 non-null    int64         \n",
      "dtypes: bool(1), datetime64[ns](1), float64(4), int64(10)\n",
      "memory usage: 72.2 KB\n"
     ]
    }
   ],
   "source": [
    "df2.info()"
   ]
  },
  {
   "cell_type": "code",
   "execution_count": 80,
   "id": "670afcef-2ae4-48a0-ae7e-d5588ec8f0c4",
   "metadata": {},
   "outputs": [
    {
     "data": {
      "text/html": [
       "<div>\n",
       "<style scoped>\n",
       "    .dataframe tbody tr th:only-of-type {\n",
       "        vertical-align: middle;\n",
       "    }\n",
       "\n",
       "    .dataframe tbody tr th {\n",
       "        vertical-align: top;\n",
       "    }\n",
       "\n",
       "    .dataframe thead th {\n",
       "        text-align: right;\n",
       "    }\n",
       "</style>\n",
       "<table border=\"1\" class=\"dataframe\">\n",
       "  <thead>\n",
       "    <tr style=\"text-align: right;\">\n",
       "      <th></th>\n",
       "      <th>instant</th>\n",
       "      <th>dteday</th>\n",
       "      <th>season</th>\n",
       "      <th>yr</th>\n",
       "      <th>mnth</th>\n",
       "      <th>hr</th>\n",
       "      <th>holiday</th>\n",
       "      <th>weekday</th>\n",
       "      <th>weathersit</th>\n",
       "      <th>temp</th>\n",
       "      <th>atemp</th>\n",
       "      <th>hum</th>\n",
       "      <th>windspeed</th>\n",
       "      <th>casual</th>\n",
       "      <th>registered</th>\n",
       "      <th>cnt</th>\n",
       "    </tr>\n",
       "  </thead>\n",
       "  <tbody>\n",
       "    <tr>\n",
       "      <th>0</th>\n",
       "      <td>1</td>\n",
       "      <td>2011-01-01</td>\n",
       "      <td>1</td>\n",
       "      <td>0</td>\n",
       "      <td>1</td>\n",
       "      <td>0</td>\n",
       "      <td>False</td>\n",
       "      <td>6</td>\n",
       "      <td>1</td>\n",
       "      <td>0.24</td>\n",
       "      <td>0.2879</td>\n",
       "      <td>0.81</td>\n",
       "      <td>0.0</td>\n",
       "      <td>3</td>\n",
       "      <td>13</td>\n",
       "      <td>16</td>\n",
       "    </tr>\n",
       "    <tr>\n",
       "      <th>1</th>\n",
       "      <td>2</td>\n",
       "      <td>2011-01-01</td>\n",
       "      <td>1</td>\n",
       "      <td>0</td>\n",
       "      <td>1</td>\n",
       "      <td>1</td>\n",
       "      <td>False</td>\n",
       "      <td>6</td>\n",
       "      <td>1</td>\n",
       "      <td>0.22</td>\n",
       "      <td>0.2727</td>\n",
       "      <td>0.80</td>\n",
       "      <td>0.0</td>\n",
       "      <td>8</td>\n",
       "      <td>32</td>\n",
       "      <td>40</td>\n",
       "    </tr>\n",
       "    <tr>\n",
       "      <th>2</th>\n",
       "      <td>3</td>\n",
       "      <td>2011-01-01</td>\n",
       "      <td>1</td>\n",
       "      <td>0</td>\n",
       "      <td>1</td>\n",
       "      <td>2</td>\n",
       "      <td>False</td>\n",
       "      <td>6</td>\n",
       "      <td>1</td>\n",
       "      <td>0.22</td>\n",
       "      <td>0.2727</td>\n",
       "      <td>0.80</td>\n",
       "      <td>0.0</td>\n",
       "      <td>5</td>\n",
       "      <td>27</td>\n",
       "      <td>32</td>\n",
       "    </tr>\n",
       "    <tr>\n",
       "      <th>3</th>\n",
       "      <td>4</td>\n",
       "      <td>2011-01-01</td>\n",
       "      <td>1</td>\n",
       "      <td>0</td>\n",
       "      <td>1</td>\n",
       "      <td>3</td>\n",
       "      <td>False</td>\n",
       "      <td>6</td>\n",
       "      <td>1</td>\n",
       "      <td>0.24</td>\n",
       "      <td>0.2879</td>\n",
       "      <td>0.75</td>\n",
       "      <td>0.0</td>\n",
       "      <td>3</td>\n",
       "      <td>10</td>\n",
       "      <td>13</td>\n",
       "    </tr>\n",
       "    <tr>\n",
       "      <th>4</th>\n",
       "      <td>5</td>\n",
       "      <td>2011-01-01</td>\n",
       "      <td>1</td>\n",
       "      <td>0</td>\n",
       "      <td>1</td>\n",
       "      <td>4</td>\n",
       "      <td>False</td>\n",
       "      <td>6</td>\n",
       "      <td>1</td>\n",
       "      <td>0.24</td>\n",
       "      <td>0.2879</td>\n",
       "      <td>0.75</td>\n",
       "      <td>0.0</td>\n",
       "      <td>0</td>\n",
       "      <td>1</td>\n",
       "      <td>1</td>\n",
       "    </tr>\n",
       "  </tbody>\n",
       "</table>\n",
       "</div>"
      ],
      "text/plain": [
       "   instant     dteday  season  yr  mnth  hr  holiday  weekday  weathersit  \\\n",
       "0        1 2011-01-01       1   0     1   0    False        6           1   \n",
       "1        2 2011-01-01       1   0     1   1    False        6           1   \n",
       "2        3 2011-01-01       1   0     1   2    False        6           1   \n",
       "3        4 2011-01-01       1   0     1   3    False        6           1   \n",
       "4        5 2011-01-01       1   0     1   4    False        6           1   \n",
       "\n",
       "   temp   atemp   hum  windspeed  casual  registered  cnt  \n",
       "0  0.24  0.2879  0.81        0.0       3          13   16  \n",
       "1  0.22  0.2727  0.80        0.0       8          32   40  \n",
       "2  0.22  0.2727  0.80        0.0       5          27   32  \n",
       "3  0.24  0.2879  0.75        0.0       3          10   13  \n",
       "4  0.24  0.2879  0.75        0.0       0           1    1  "
      ]
     },
     "execution_count": 80,
     "metadata": {},
     "output_type": "execute_result"
    }
   ],
   "source": [
    "df2.head()"
   ]
  },
  {
   "cell_type": "code",
   "execution_count": 82,
   "id": "00eec06a-6869-4598-89ae-279291225514",
   "metadata": {},
   "outputs": [],
   "source": [
    "df2 = df2.drop_duplicates(keep='last')"
   ]
  },
  {
   "cell_type": "code",
   "execution_count": 84,
   "id": "3c10e972-be08-4ebf-a657-cda1f0d2458a",
   "metadata": {},
   "outputs": [
    {
     "data": {
      "text/plain": [
       "weathersit\n",
       "1    368\n",
       "2    194\n",
       "3     47\n",
       "4      1\n",
       "Name: count, dtype: int64"
      ]
     },
     "execution_count": 84,
     "metadata": {},
     "output_type": "execute_result"
    }
   ],
   "source": [
    "df2['weathersit'].value_counts(dropna= False)"
   ]
  },
  {
   "cell_type": "code",
   "execution_count": 86,
   "id": "e7f6bf70-9b80-4a7f-9a80-637a0e56de2e",
   "metadata": {},
   "outputs": [
    {
     "data": {
      "text/plain": [
       "(610, 16)"
      ]
     },
     "execution_count": 86,
     "metadata": {},
     "output_type": "execute_result"
    }
   ],
   "source": [
    "df2.shape"
   ]
  },
  {
   "cell_type": "markdown",
   "id": "a732224c-f0f5-4c70-bbaf-8760a93e9f36",
   "metadata": {},
   "source": [
    "## Plotting graphs below to illustrate data distribution"
   ]
  },
  {
   "cell_type": "code",
   "execution_count": 89,
   "id": "f20a07b6-4639-4e9c-8070-9d460d8abb10",
   "metadata": {},
   "outputs": [
    {
     "data": {
      "image/png": "[encoded data removed]",
      "text/plain": [
       "<Figure size 640x480 with 1 Axes>"
      ]
     },
     "metadata": {},
     "output_type": "display_data"
    }
   ],
   "source": [
    "sns.barplot(x=df2['weekday'],y = df2['cnt'],palette=\"viridis\")\n",
    "plt.title('Total Count as per the weekdays')\n",
    "plt.show()"
   ]
  },
  {
   "cell_type": "code",
   "execution_count": 91,
   "id": "0e51bafe-859c-446c-a7b1-88ddfeee4c71",
   "metadata": {},
   "outputs": [
    {
     "data": {
      "image/png": "[encoded data removed]",
      "text/plain": [
       "<Figure size 2000x1000 with 6 Axes>"
      ]
     },
     "metadata": {},
     "output_type": "display_data"
    }
   ],
   "source": [
    "fig, ax = plt.subplots(2,3, figsize=(20, 10))\n",
    "\n",
    "sns.countplot(x=df2['weathersit'],ax=ax[0,0],palette=\"coolwarm\")\n",
    "ax[0,0].set_title('Weathersit',fontsize=20, fontweight='bold')\n",
    "\n",
    "sns.histplot(df2['temp'], kde=True, ax=ax[0, 1],color=\"royalblue\") \n",
    "ax[0, 1].set_title('temp',fontsize=20, fontweight='bold')\n",
    "\n",
    "sns.histplot(df2['atemp'], kde=True, ax=ax[0, 2],color=\"seagreen\") \n",
    "ax[0, 2].set_title('atemp',fontsize=20, fontweight='bold')\n",
    "\n",
    "sns.histplot(df2['hum'], kde=True, ax=ax[1,0],color=\"darkorange\") \n",
    "ax[1,0].set_title('hum',fontsize=20, fontweight='bold')\n",
    "\n",
    "sns.histplot(df2['windspeed'], kde=True, ax=ax[1,1],color=\"crimson\") \n",
    "ax[1,1].set_title('windspeed',fontsize=20, fontweight='bold')\n",
    "\n",
    "sns.histplot(df2['cnt'], kde=True, ax=ax[1,2],color=\"purple\") \n",
    "ax[1,2].set_title('cnt',fontsize=20, fontweight='bold')\n",
    "\n",
    "plt.tight_layout()\n",
    "plt.show()"
   ]
  },
  {
   "cell_type": "markdown",
   "id": "afd9c52b-ec8b-43c0-9710-d99fdc24ff8d",
   "metadata": {},
   "source": [
    "# Extracting CSV file after merging and cleaning data file 1 and 2  = merged_data1.csv"
   ]
  },
  {
   "cell_type": "code",
   "execution_count": 92,
   "id": "f42ce2f2-04a2-40b4-a402-b44e7a0c3a9c",
   "metadata": {},
   "outputs": [],
   "source": [
    "df2.to_csv('/Users/ranjitsingh/Documents/Nexthikes-Projects/Project2/merged_data1.csv', index = False)"
   ]
  }
 ],
 "metadata": {
  "kernelspec": {
   "display_name": "Python 3 (ipykernel)",
   "language": "python",
   "name": "python3"
  },
  "language_info": {
   "codemirror_mode": {
    "name": "ipython",
    "version": 3
   },
   "file_extension": ".py",
   "mimetype": "text/x-python",
   "name": "python",
   "nbconvert_exporter": "python",
   "pygments_lexer": "ipython3",
   "version": "3.12.4"
  }
 },
 "nbformat": 4,
 "nbformat_minor": 5
}
